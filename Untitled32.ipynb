{
  "nbformat": 4,
  "nbformat_minor": 0,
  "metadata": {
    "colab": {
      "provenance": []
    },
    "kernelspec": {
      "name": "python3",
      "display_name": "Python 3"
    },
    "language_info": {
      "name": "python"
    }
  },
  "cells": [
    {
      "cell_type": "code",
      "execution_count": 6,
      "metadata": {
        "colab": {
          "base_uri": "https://localhost:8080/"
        },
        "id": "5El6kYwoGS9J",
        "outputId": "26542579-c5b6-4a4e-fb08-c58cdafd724d"
      },
      "outputs": [
        {
          "output_type": "stream",
          "name": "stdout",
          "text": [
            "Enter a word: hello\n",
            "Reversed word: olleh\n"
          ]
        }
      ],
      "source": [
        "#ASSIGNMENT #01\n",
        "\n",
        "def reverse_word(word):\n",
        "    return word[::-1]\n",
        "\n",
        "\n",
        "word = input(\"Enter a word: \")\n",
        "reversed_word = reverse_word(word)\n",
        "print(\"Reversed word:\", reversed_word)\n"
      ]
    },
    {
      "cell_type": "code",
      "source": [
        "def unique_list(lst):\n",
        "    return list(set(lst))\n",
        "\n",
        "\n",
        "sample_list = [7,3,5,8,5,7,2,6,9,9]\n",
        "unique_list = unique_list(sample_list)\n",
        "print(\"Unique List:\", unique_list)"
      ],
      "metadata": {
        "colab": {
          "base_uri": "https://localhost:8080/"
        },
        "id": "f8WCVjaYGVA3",
        "outputId": "45bbc24f-1cde-4789-abbf-6beb22412566"
      },
      "execution_count": 3,
      "outputs": [
        {
          "output_type": "stream",
          "name": "stdout",
          "text": [
            "Unique List: [2, 3, 5, 6, 7, 8, 9]\n"
          ]
        }
      ]
    },
    {
      "cell_type": "code",
      "source": [
        "def max_of_three(a, b, c):\n",
        "    return max(a, b, c)\n",
        "\n",
        "num1 = 10\n",
        "num2 = 20\n",
        "num3 = 30\n",
        "print(\"Maximum of three numbers:\", max_of_three(num1, num2, num3))\n"
      ],
      "metadata": {
        "colab": {
          "base_uri": "https://localhost:8080/"
        },
        "id": "T1DNc7ARGgMG",
        "outputId": "601e48e8-9204-4e8a-f214-c40c4f5da5ce"
      },
      "execution_count": 4,
      "outputs": [
        {
          "output_type": "stream",
          "name": "stdout",
          "text": [
            "Maximum of three numbers: 30\n"
          ]
        }
      ]
    },
    {
      "cell_type": "code",
      "source": [
        "def sum_of_list(lst):\n",
        "    return sum(lst)\n",
        "\n",
        "\n",
        "numbers = [1, 2, 3, 4, 5]\n",
        "print(\"Sum of numbers in the list:\", sum_of_list(numbers))\n"
      ],
      "metadata": {
        "colab": {
          "base_uri": "https://localhost:8080/"
        },
        "id": "velnJp9yGrNs",
        "outputId": "9f64128f-e2ea-43a6-f3b3-96016062e1c5"
      },
      "execution_count": 5,
      "outputs": [
        {
          "output_type": "stream",
          "name": "stdout",
          "text": [
            "Sum of numbers in the list: 15\n"
          ]
        }
      ]
    },
    {
      "cell_type": "code",
      "source": [],
      "metadata": {
        "id": "O-m_0hqfGxlK"
      },
      "execution_count": null,
      "outputs": []
    }
  ]
}