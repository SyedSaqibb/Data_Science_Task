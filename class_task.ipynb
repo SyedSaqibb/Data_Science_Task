{
  "nbformat": 4,
  "nbformat_minor": 0,
  "metadata": {
    "colab": {
      "provenance": []
    },
    "kernelspec": {
      "name": "python3",
      "display_name": "Python 3"
    },
    "language_info": {
      "name": "python"
    }
  },
  "cells": [
    {
      "cell_type": "code",
      "execution_count": 1,
      "metadata": {
        "colab": {
          "base_uri": "https://localhost:8080/"
        },
        "id": "MteimXokJdSf",
        "outputId": "57726caa-9613-4558-829b-3697eb74433c"
      },
      "outputs": [
        {
          "output_type": "stream",
          "name": "stdout",
          "text": [
            "Enter the radius of the circle: 2.3\n",
            "Area of the circle: 16.619025137490002\n"
          ]
        }
      ],
      "source": [
        "import math\n",
        "\n",
        "def calculate_area_of_circle(radius):\n",
        "    return math.pi * radius ** 2\n",
        "\n",
        "radius = float(input(\"Enter the radius of the circle: \"))\n",
        "area = calculate_area_of_circle(radius)\n",
        "print(\"Area of the circle:\", area)\n"
      ]
    },
    {
      "cell_type": "code",
      "source": [
        "def find_maximum(a, b):\n",
        "    return max(a, b)\n",
        "\n",
        "num1 = float(input(\"Enter first number: \"))\n",
        "num2 = float(input(\"Enter second number: \"))\n",
        "maximum = find_maximum(num1, num2)\n",
        "print(\"Maximum of two numbers:\", maximum)\n"
      ],
      "metadata": {
        "colab": {
          "base_uri": "https://localhost:8080/"
        },
        "id": "NPMBv-33Jenb",
        "outputId": "3b2fa64e-e126-4d4b-b75c-a097e0096c3b"
      },
      "execution_count": 2,
      "outputs": [
        {
          "output_type": "stream",
          "name": "stdout",
          "text": [
            "Enter first number: 43\n",
            "Enter second number: 56\n",
            "Maximum of two numbers: 56.0\n"
          ]
        }
      ]
    },
    {
      "cell_type": "code",
      "source": [
        "def element_exists(a, element):\n",
        "    for item in a:\n",
        "        if item == element:\n",
        "            return True\n",
        "    return False\n",
        "\n",
        "my_list = [1, 2, 3, 4, 5]\n",
        "search_element = int(input(\"Enter element to search in the list: \"))\n",
        "if element_exists(my_list, search_element):\n",
        "    print(\"Element exists in the list.\")\n",
        "else:\n",
        "    print(\"Element does not exist in the list.\")\n"
      ],
      "metadata": {
        "colab": {
          "base_uri": "https://localhost:8080/"
        },
        "id": "Nm3ofk10Jkuk",
        "outputId": "afe3bef4-f802-4534-a4d4-010e53b4903c"
      },
      "execution_count": 5,
      "outputs": [
        {
          "output_type": "stream",
          "name": "stdout",
          "text": [
            "Enter element to search in the list: 3\n",
            "Element exists in the list.\n"
          ]
        }
      ]
    },
    {
      "cell_type": "code",
      "source": [],
      "metadata": {
        "id": "Jo0apn2qJqn3"
      },
      "execution_count": null,
      "outputs": []
    }
  ]
}